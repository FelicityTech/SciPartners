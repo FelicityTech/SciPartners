{
 "cells": [
  {
   "cell_type": "code",
   "execution_count": 3,
   "id": "7f56f069",
   "metadata": {},
   "outputs": [],
   "source": [
    "%matplotlib inline\n",
    "import numpy as np\n",
    "import pandas as pd\n",
    "from pprint import pprint\n",
    "import itertools\n",
    "from nltk.corpus import stopwords\n",
    "import gensim\n",
    "from random import randint\n",
    "pd.set_option('display.width', 500)\n",
    "pd.set_option('display.max_columns', 100)\n",
    "pd.set_option('display.notebook_repr_html', True)\n",
    "import nltk"
   ]
  },
  {
   "cell_type": "code",
   "execution_count": 12,
   "id": "9e2ae404",
   "metadata": {},
   "outputs": [],
   "source": [
    "# data = pd.read_excel(r\"C:\\Users\\Ogidan\\Desktop\\hope\\python3\\Data_Science_projects\\Deep learning\\nasa space apps\\open_source data.xlsx\")"
   ]
  },
  {
   "cell_type": "code",
   "execution_count": 4,
   "id": "e9f8685c",
   "metadata": {},
   "outputs": [],
   "source": [
    "data = pd.read_excel(r\"C:\\Users\\Ogidan\\Desktop\\hope\\python3\\Data_Science_projects\\Deep learning\\nasa space apps\\company_profile.xlsx\")"
   ]
  },
  {
   "cell_type": "code",
   "execution_count": 5,
   "id": "333c53d9",
   "metadata": {},
   "outputs": [
    {
     "data": {
      "text/html": [
       "<div>\n",
       "<style scoped>\n",
       "    .dataframe tbody tr th:only-of-type {\n",
       "        vertical-align: middle;\n",
       "    }\n",
       "\n",
       "    .dataframe tbody tr th {\n",
       "        vertical-align: top;\n",
       "    }\n",
       "\n",
       "    .dataframe thead th {\n",
       "        text-align: right;\n",
       "    }\n",
       "</style>\n",
       "<table border=\"1\" class=\"dataframe\">\n",
       "  <thead>\n",
       "    <tr style=\"text-align: right;\">\n",
       "      <th></th>\n",
       "      <th>No</th>\n",
       "      <th>Name</th>\n",
       "      <th>Description</th>\n",
       "      <th>Technologies</th>\n",
       "      <th>Unnamed: 4</th>\n",
       "      <th>Unnamed: 5</th>\n",
       "      <th>Unnamed: 6</th>\n",
       "      <th>Unnamed: 7</th>\n",
       "    </tr>\n",
       "  </thead>\n",
       "  <tbody>\n",
       "    <tr>\n",
       "      <th>0</th>\n",
       "      <td>1</td>\n",
       "      <td>LibreChat</td>\n",
       "      <td>LibreChat is an open-source chat application d...</td>\n",
       "      <td>voice , and video chat. Technologies: Python ...</td>\n",
       "      <td>NaN</td>\n",
       "      <td></td>\n",
       "      <td>NaN</td>\n",
       "      <td>NaN</td>\n",
       "    </tr>\n",
       "    <tr>\n",
       "      <th>1</th>\n",
       "      <td>2</td>\n",
       "      <td>CodeCollab</td>\n",
       "      <td>CodeCollab is a collaborative coding platform ...</td>\n",
       "      <td>Node.js,Technologies: Raspberry Pi</td>\n",
       "      <td>NaN</td>\n",
       "      <td>NaN</td>\n",
       "      <td>NaN</td>\n",
       "      <td>NaN</td>\n",
       "    </tr>\n",
       "  </tbody>\n",
       "</table>\n",
       "</div>"
      ],
      "text/plain": [
       "   No        Name                                        Description                                       Technologies Unnamed: 4 Unnamed: 5  Unnamed: 6 Unnamed: 7\n",
       "0   1   LibreChat  LibreChat is an open-source chat application d...   voice , and video chat. Technologies: Python ...        NaN                    NaN        NaN\n",
       "1   2  CodeCollab  CodeCollab is a collaborative coding platform ...                 Node.js,Technologies: Raspberry Pi        NaN        NaN         NaN        NaN"
      ]
     },
     "execution_count": 5,
     "metadata": {},
     "output_type": "execute_result"
    }
   ],
   "source": [
    "data.head(2)"
   ]
  },
  {
   "cell_type": "code",
   "execution_count": 6,
   "id": "d8bd4c55",
   "metadata": {},
   "outputs": [
    {
     "name": "stderr",
     "output_type": "stream",
     "text": [
      "[nltk_data] Error loading stopwords: <urlopen error [Errno 11001]\n",
      "[nltk_data]     getaddrinfo failed>\n"
     ]
    }
   ],
   "source": [
    "nltk.download('stopwords')\n",
    "stop_words = set(stopwords.words(\"english\"))\n",
    "\n",
    "def sep_7(l):\n",
    "    result = gensim.utils.simple_preprocess(l)\n",
    "    result = [w for w in result if not w in stop_words]\n",
    "    return result"
   ]
  },
  {
   "cell_type": "code",
   "execution_count": 8,
   "id": "504ea510",
   "metadata": {},
   "outputs": [
    {
     "data": {
      "text/html": [
       "<div>\n",
       "<style scoped>\n",
       "    .dataframe tbody tr th:only-of-type {\n",
       "        vertical-align: middle;\n",
       "    }\n",
       "\n",
       "    .dataframe tbody tr th {\n",
       "        vertical-align: top;\n",
       "    }\n",
       "\n",
       "    .dataframe thead th {\n",
       "        text-align: right;\n",
       "    }\n",
       "</style>\n",
       "<table border=\"1\" class=\"dataframe\">\n",
       "  <thead>\n",
       "    <tr style=\"text-align: right;\">\n",
       "      <th></th>\n",
       "      <th>No</th>\n",
       "      <th>Name</th>\n",
       "      <th>Description</th>\n",
       "      <th>Technologies</th>\n",
       "      <th>Unnamed: 4</th>\n",
       "      <th>Unnamed: 5</th>\n",
       "      <th>Unnamed: 6</th>\n",
       "      <th>Unnamed: 7</th>\n",
       "      <th>stem_words</th>\n",
       "    </tr>\n",
       "  </thead>\n",
       "  <tbody>\n",
       "    <tr>\n",
       "      <th>0</th>\n",
       "      <td>1</td>\n",
       "      <td>LibreChat</td>\n",
       "      <td>LibreChat is an open-source chat application d...</td>\n",
       "      <td>voice , and video chat. Technologies: Python ...</td>\n",
       "      <td>NaN</td>\n",
       "      <td></td>\n",
       "      <td>NaN</td>\n",
       "      <td>NaN</td>\n",
       "      <td>LibreChat is an open-source chat application d...</td>\n",
       "    </tr>\n",
       "    <tr>\n",
       "      <th>1</th>\n",
       "      <td>2</td>\n",
       "      <td>CodeCollab</td>\n",
       "      <td>CodeCollab is a collaborative coding platform ...</td>\n",
       "      <td>Node.js,Technologies: Raspberry Pi</td>\n",
       "      <td>NaN</td>\n",
       "      <td>NaN</td>\n",
       "      <td>NaN</td>\n",
       "      <td>NaN</td>\n",
       "      <td>CodeCollab is a collaborative coding platform ...</td>\n",
       "    </tr>\n",
       "    <tr>\n",
       "      <th>2</th>\n",
       "      <td>3</td>\n",
       "      <td>GreenHub</td>\n",
       "      <td>GreenHub is an environmental monitoring system...</td>\n",
       "      <td>pollution</td>\n",
       "      <td></td>\n",
       "      <td>NaN</td>\n",
       "      <td>NaN</td>\n",
       "      <td>NaN</td>\n",
       "      <td>GreenHub is an environmental monitoring system...</td>\n",
       "    </tr>\n",
       "    <tr>\n",
       "      <th>3</th>\n",
       "      <td>4</td>\n",
       "      <td>HealthTrackr</td>\n",
       "      <td>HealthTrackr is a mobile app for tracking and ...</td>\n",
       "      <td>Firebase, Redux</td>\n",
       "      <td>NaN</td>\n",
       "      <td>NaN</td>\n",
       "      <td>NaN</td>\n",
       "      <td>NaN</td>\n",
       "      <td>HealthTrackr is a mobile app for tracking and ...</td>\n",
       "    </tr>\n",
       "    <tr>\n",
       "      <th>4</th>\n",
       "      <td>5</td>\n",
       "      <td>OpenEduWiki</td>\n",
       "      <td>OpenEduWiki is a Wikipedia-like platform for c...</td>\n",
       "      <td>PostgreSQL, React</td>\n",
       "      <td>NaN</td>\n",
       "      <td>NaN</td>\n",
       "      <td>NaN</td>\n",
       "      <td>NaN</td>\n",
       "      <td>OpenEduWiki is a Wikipedia-like platform for c...</td>\n",
       "    </tr>\n",
       "  </tbody>\n",
       "</table>\n",
       "</div>"
      ],
      "text/plain": [
       "   No          Name                                        Description                                       Technologies Unnamed: 4 Unnamed: 5  Unnamed: 6 Unnamed: 7                                         stem_words\n",
       "0   1     LibreChat  LibreChat is an open-source chat application d...   voice , and video chat. Technologies: Python ...        NaN                    NaN        NaN  LibreChat is an open-source chat application d...\n",
       "1   2    CodeCollab  CodeCollab is a collaborative coding platform ...                 Node.js,Technologies: Raspberry Pi        NaN        NaN         NaN        NaN  CodeCollab is a collaborative coding platform ...\n",
       "2   3      GreenHub  GreenHub is an environmental monitoring system...                                          pollution                   NaN         NaN        NaN  GreenHub is an environmental monitoring system...\n",
       "3   4  HealthTrackr  HealthTrackr is a mobile app for tracking and ...                                    Firebase, Redux        NaN        NaN         NaN        NaN  HealthTrackr is a mobile app for tracking and ...\n",
       "4   5   OpenEduWiki  OpenEduWiki is a Wikipedia-like platform for c...                                  PostgreSQL, React        NaN        NaN         NaN        NaN  OpenEduWiki is a Wikipedia-like platform for c..."
      ]
     },
     "execution_count": 8,
     "metadata": {},
     "output_type": "execute_result"
    }
   ],
   "source": [
    "data['stem_words'] = data[['Description','Technologies']].apply(lambda x: ' '.join(x),axis=1)\n",
    "data.head()"
   ]
  },
  {
   "cell_type": "code",
   "execution_count": 9,
   "id": "232d033d",
   "metadata": {},
   "outputs": [],
   "source": [
    "data['stem_words'] = data['stem_words'].apply(sep_7)"
   ]
  },
  {
   "cell_type": "code",
   "execution_count": 5,
   "id": "d25d966f",
   "metadata": {},
   "outputs": [],
   "source": [
    "# import spacy\n",
    "# nlp = spacy.load()\n",
    "# ref_sent_vec = nlp(data['stem_words'][0])\n",
    "\n",
    "#'en_core_web_lg'"
   ]
  },
  {
   "cell_type": "code",
   "execution_count": 12,
   "id": "33dda46b",
   "metadata": {},
   "outputs": [
    {
     "data": {
      "text/plain": [
       "TaggedDocument(words=['librechat', 'open', 'source', 'chat', 'application', 'designed', 'privacy', 'mind', 'uses', 'end', 'end', 'encryption', 'supports', 'text', 'voice', 'video', 'chat', 'technologies', 'python', 'webrtc'], tags='LibreChat')"
      ]
     },
     "execution_count": 12,
     "metadata": {},
     "output_type": "execute_result"
    }
   ],
   "source": [
    "class TaggedSentence(object):\n",
    "    def __init__(self, doc_list, labels_list):\n",
    "        self.labels_list = labels_list\n",
    "        self.doc_list = doc_list\n",
    "        \n",
    "    def __iter__(self):\n",
    "        for idx, doc in enumerate(self.doc_list):\n",
    "              yield gensim.models.doc2vec.TaggedDocument(doc, self.labels_list[idx])\n",
    "\n",
    "    def to_array(self):\n",
    "        self.sentences = []\n",
    "        for idx, doc in enumerate(self.doc_list):\n",
    "            self.sentences.append(gensim.models.doc2vec.TaggedDocument(doc, self.labels_list[idx]))\n",
    "        return self.sentences\n",
    "    \n",
    "documents = TaggedSentence(data.stem_words, data.Name)\n",
    "documents.to_array()[0]"
   ]
  },
  {
   "cell_type": "code",
   "execution_count": 13,
   "id": "56174535",
   "metadata": {},
   "outputs": [
    {
     "name": "stdout",
     "output_type": "stream",
     "text": [
      "Doc2Vec<dbow,d100,n5,mc2,s0.001,t3>\n"
     ]
    }
   ],
   "source": [
    "model = gensim.models.doc2vec.Doc2Vec(dm=0, min_count=2, epochs=55)\n",
    "model.build_vocab(documents.to_array())\n",
    "print(str(model))"
   ]
  },
  {
   "cell_type": "code",
   "execution_count": 4,
   "id": "11d0840a",
   "metadata": {},
   "outputs": [],
   "source": [
    "# sims = model.docvecs.most_similar(positive=['python','is','my', 'speciality'], topn=6)\n",
    "# # print('Company ({}): «{}»\\n'.format(company_pd.iloc[r].comp_op_name, company_pd.iloc[r].comp_prof))\n",
    "# print(u'SIMILAR BUSINESSES PER MODEL %s:\\n' % model)\n",
    "# # for index in range(len(sims)):\n",
    "# #     print(u'%s: «%s»\\n' % ((company_pd[company_pd.comp_ID ==\\\n",
    "# #                               sims[index][0]].comp_op_name.max(),sims[index][1]), \\\n",
    "# #                               company_pd[company_pd.comp_ID == sims[index][0]].comp_prof.max()))"
   ]
  },
  {
   "cell_type": "code",
   "execution_count": null,
   "id": "7dc0c1cf",
   "metadata": {},
   "outputs": [],
   "source": []
  }
 ],
 "metadata": {
  "kernelspec": {
   "display_name": "Python 3 (ipykernel)",
   "language": "python",
   "name": "python3"
  },
  "language_info": {
   "codemirror_mode": {
    "name": "ipython",
    "version": 3
   },
   "file_extension": ".py",
   "mimetype": "text/x-python",
   "name": "python",
   "nbconvert_exporter": "python",
   "pygments_lexer": "ipython3",
   "version": "3.10.5"
  }
 },
 "nbformat": 4,
 "nbformat_minor": 5
}
